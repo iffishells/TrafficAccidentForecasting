{
 "cells": [
  {
   "cell_type": "code",
   "execution_count": 9,
   "id": "95c79cc2-5301-4faf-b106-49a9c3e70d8e",
   "metadata": {},
   "outputs": [],
   "source": [
    "# !pip install darts\n",
    "# !pip install -U kaleido"
   ]
  },
  {
   "cell_type": "markdown",
   "id": "68226190-12c3-4607-a3df-c7e3b5b9a515",
   "metadata": {},
   "source": [
    "## **Step 1: Import all the libraries and modules**"
   ]
  },
  {
   "cell_type": "code",
   "execution_count": 16,
   "id": "557a6936-65e6-4612-8b93-ee0b487bd5ec",
   "metadata": {},
   "outputs": [
    {
     "name": "stdout",
     "output_type": "stream",
     "text": [
      "The autoreload extension is already loaded. To reload it, use:\n",
      "  %reload_ext autoreload\n"
     ]
    }
   ],
   "source": [
    "import pandas as pd\n",
    "import numpy as np\n",
    "import os\n",
    "import sys\n",
    "\n",
    "%load_ext autoreload\n",
    "%autoreload 2\n",
    "\n",
    "target_dir = os.path.abspath(os.path.join(os.getcwd(), '..' ))\n",
    "sys.path.append(target_dir)\n",
    "          \n",
    "from Models.XGBOOST.XGBBOOSTModel import xgboost_model\n",
    "from Models.XGBOOST.xgb_evaluation import evaluation_of_model_xgb_Model\n",
    "from Models.XGBOOST.xgb_evaluation import load_model_xgb_model\n",
    "from Models.ARIMAModel.preprocessing import preprocess_df_to_ts\n",
    "\n",
    "from sklearn.model_selection import  train_test_split\n",
    "import logging\n",
    "import gc\n",
    "\n",
    "import sys\n",
    "import warnings\n",
    "warnings.filterwarnings(\"ignore\")\n",
    "logging.disable(logging.CRITICAL)"
   ]
  },
  {
   "cell_type": "markdown",
   "id": "5aaeeff9-1367-4f08-a8b2-982a4379f9c6",
   "metadata": {},
   "source": [
    "## **Step 2 : Reading Data Daily Traffic Accident Forecasting**"
   ]
  },
  {
   "cell_type": "code",
   "execution_count": 30,
   "id": "02e93a00-f4c6-45ad-a1fd-31ff63f3bb60",
   "metadata": {},
   "outputs": [
    {
     "data": {
      "text/html": [
       "<div>\n",
       "<style scoped>\n",
       "    .dataframe tbody tr th:only-of-type {\n",
       "        vertical-align: middle;\n",
       "    }\n",
       "\n",
       "    .dataframe tbody tr th {\n",
       "        vertical-align: top;\n",
       "    }\n",
       "\n",
       "    .dataframe thead th {\n",
       "        text-align: right;\n",
       "    }\n",
       "</style>\n",
       "<table border=\"1\" class=\"dataframe\">\n",
       "  <thead>\n",
       "    <tr style=\"text-align: right;\">\n",
       "      <th></th>\n",
       "      <th>daily</th>\n",
       "      <th>daily_accident</th>\n",
       "    </tr>\n",
       "  </thead>\n",
       "  <tbody>\n",
       "    <tr>\n",
       "      <th>0</th>\n",
       "      <td>2018-01-01</td>\n",
       "      <td>234</td>\n",
       "    </tr>\n",
       "    <tr>\n",
       "      <th>1</th>\n",
       "      <td>2018-01-02</td>\n",
       "      <td>408</td>\n",
       "    </tr>\n",
       "    <tr>\n",
       "      <th>2</th>\n",
       "      <td>2018-01-03</td>\n",
       "      <td>231</td>\n",
       "    </tr>\n",
       "    <tr>\n",
       "      <th>3</th>\n",
       "      <td>2018-01-04</td>\n",
       "      <td>225</td>\n",
       "    </tr>\n",
       "    <tr>\n",
       "      <th>4</th>\n",
       "      <td>2018-01-05</td>\n",
       "      <td>342</td>\n",
       "    </tr>\n",
       "    <tr>\n",
       "      <th>...</th>\n",
       "      <td>...</td>\n",
       "      <td>...</td>\n",
       "    </tr>\n",
       "    <tr>\n",
       "      <th>1821</th>\n",
       "      <td>2022-12-27</td>\n",
       "      <td>183</td>\n",
       "    </tr>\n",
       "    <tr>\n",
       "      <th>1822</th>\n",
       "      <td>2022-12-28</td>\n",
       "      <td>177</td>\n",
       "    </tr>\n",
       "    <tr>\n",
       "      <th>1823</th>\n",
       "      <td>2022-12-29</td>\n",
       "      <td>191</td>\n",
       "    </tr>\n",
       "    <tr>\n",
       "      <th>1824</th>\n",
       "      <td>2022-12-30</td>\n",
       "      <td>193</td>\n",
       "    </tr>\n",
       "    <tr>\n",
       "      <th>1825</th>\n",
       "      <td>2022-12-31</td>\n",
       "      <td>179</td>\n",
       "    </tr>\n",
       "  </tbody>\n",
       "</table>\n",
       "<p>1826 rows × 2 columns</p>\n",
       "</div>"
      ],
      "text/plain": [
       "           daily  daily_accident\n",
       "0     2018-01-01             234\n",
       "1     2018-01-02             408\n",
       "2     2018-01-03             231\n",
       "3     2018-01-04             225\n",
       "4     2018-01-05             342\n",
       "...          ...             ...\n",
       "1821  2022-12-27             183\n",
       "1822  2022-12-28             177\n",
       "1823  2022-12-29             191\n",
       "1824  2022-12-30             193\n",
       "1825  2022-12-31             179\n",
       "\n",
       "[1826 rows x 2 columns]"
      ]
     },
     "execution_count": 30,
     "metadata": {},
     "output_type": "execute_result"
    }
   ],
   "source": [
    "daily_traffic_accident_data_path = '../data/processed/daily_data.csv'\n",
    "daily_accident_df = pd.read_csv(daily_traffic_accident_data_path)\n",
    "daily_accident_df"
   ]
  },
  {
   "cell_type": "markdown",
   "id": "d5c7b71b-babb-499e-aa13-386135bee482",
   "metadata": {},
   "source": [
    "## **Step 3 : Split the Data into train and test data**"
   ]
  },
  {
   "cell_type": "code",
   "execution_count": 31,
   "id": "f1788240-d977-4f0a-9435-3a2c839cdb57",
   "metadata": {},
   "outputs": [],
   "source": [
    "processed_train_df, processed_test_df = train_test_split(\n",
    "        daily_accident_df, test_size=0.245, random_state=42, shuffle=False)"
   ]
  },
  {
   "cell_type": "markdown",
   "id": "8a7f37c1-d9c5-416e-b3d7-c9e2ba8dea97",
   "metadata": {},
   "source": [
    "## **Step 4 : Preprocess the data into Time series object**"
   ]
  },
  {
   "cell_type": "code",
   "execution_count": 32,
   "id": "c00dc1cf-0a6f-4681-8896-8a54c5d9307c",
   "metadata": {},
   "outputs": [
    {
     "name": "stdout",
     "output_type": "stream",
     "text": [
      "[INFO] Converting data into times series types\n"
     ]
    }
   ],
   "source": [
    "print('[INFO] Converting data into times series types')\n",
    "ts_train = preprocess_df_to_ts(processed_train_df,'daily','daily_accident','1D')\n",
    "ts_test = preprocess_df_to_ts(processed_test_df,'daily','daily_accident','1D')"
   ]
  },
  {
   "cell_type": "markdown",
   "id": "d720dfda-d90e-42e9-b6a1-d2e7f3b31c99",
   "metadata": {},
   "source": [
    "## **Step 5 : Training the Model**"
   ]
  },
  {
   "cell_type": "code",
   "execution_count": 40,
   "id": "8c987bf6-573b-4896-b6d7-0bea8a030cc3",
   "metadata": {},
   "outputs": [
    {
     "name": "stdout",
     "output_type": "stream",
     "text": [
      "[INFO] Train XGBOOST Model...\n"
     ]
    }
   ],
   "source": [
    "print('[INFO] Train XGBOOST Model...')\n",
    "os.makedirs('../pkl',exist_ok=True)\n",
    "trained_model_file_name = f'../pkl/XGBoost.pkl'\n",
    "xgbmodel = xgboost_model(ts_train)\n",
    "\n",
    "xgbmodel.save(trained_model_file_name)\n"
   ]
  },
  {
   "cell_type": "markdown",
   "id": "199627a9-1ce6-4682-8458-49e13f4a5d99",
   "metadata": {},
   "source": [
    "## **Step 6 : Loading the Trained Model**"
   ]
  },
  {
   "cell_type": "code",
   "execution_count": 41,
   "id": "f94ad979-2269-4432-be8c-805e666d6b9c",
   "metadata": {},
   "outputs": [],
   "source": [
    "xgbmodel = load_model_xgb_model(trained_model_file_name)"
   ]
  },
  {
   "cell_type": "markdown",
   "id": "83e4eab3-7540-438c-8ced-5508552fcc0e",
   "metadata": {},
   "source": [
    "## **Step 7 : Evaluation of the XGB Model**"
   ]
  },
  {
   "cell_type": "code",
   "execution_count": 42,
   "id": "e32ddc63-e05a-412e-acda-58396d64ee40",
   "metadata": {},
   "outputs": [
    {
     "name": "stdout",
     "output_type": "stream",
     "text": [
      "Evaluation of input window : 30 & Horizon : 418\n",
      "metrics: {'MAE': 54.45, 'RMSE': 68.74, 'MAPE': 22.12, 'MSE': 4725.45}\n",
      "Evaluation of input window : 60 & Horizon : 388\n",
      "metrics: {'MAE': 55.23, 'RMSE': 68.77, 'MAPE': 22.55, 'MSE': 4729.33}\n",
      "Evaluation of input window : 90 & Horizon : 358\n",
      "metrics: {'MAE': 52.84, 'RMSE': 65.71, 'MAPE': 20.73, 'MSE': 4317.3}\n",
      "Evaluation of input window : 120 & Horizon : 328\n",
      "metrics: {'MAE': 53.43, 'RMSE': 66.13, 'MAPE': 21.13, 'MSE': 4373.56}\n",
      "Evaluation of input window : 150 & Horizon : 298\n",
      "metrics: {'MAE': 49.77, 'RMSE': 63.88, 'MAPE': 19.4, 'MSE': 4080.04}\n"
     ]
    },
    {
     "data": {
      "text/plain": [
       "0"
      ]
     },
     "execution_count": 42,
     "metadata": {},
     "output_type": "execute_result"
    }
   ],
   "source": [
    "evaluation_sarima_df = evaluation_of_model_xgb_Model(trained_model_file_name,\n",
    "                                                    ts_test=ts_test,\n",
    "                                                    ts_train=ts_train)\n",
    "\n",
    "gc.collect()"
   ]
  },
  {
   "cell_type": "markdown",
   "id": "5a53a1af-073f-4f17-a29e-b0d5e5b59b5b",
   "metadata": {},
   "source": [
    "## **Step 8 : Saving the Statistical Results**"
   ]
  },
  {
   "cell_type": "code",
   "execution_count": 43,
   "id": "fbeed244-c072-48f5-bb23-a5e9ea20354f",
   "metadata": {},
   "outputs": [
    {
     "name": "stdout",
     "output_type": "stream",
     "text": [
      "[INFO] Generating Statistical Results of RNN-LSTM Model\n"
     ]
    }
   ],
   "source": [
    "print('[INFO] Generating Statistical Results of RNN-LSTM Model')\n",
    "statistical_result_save_path = os.path.join(\"../StatisticalResults\")\n",
    "os.makedirs(statistical_result_save_path,exist_ok=True)\n",
    "\n",
    "evaluation_sarima_df.to_csv(\n",
    "f\"{statistical_result_save_path}/xgb_evaluation_results.csv\", index=False\n",
    ")"
   ]
  },
  {
   "cell_type": "code",
   "execution_count": null,
   "id": "6f829a70-b892-41e0-b93a-465208b3e22b",
   "metadata": {},
   "outputs": [],
   "source": []
  }
 ],
 "metadata": {
  "kernelspec": {
   "display_name": "Python 3",
   "language": "python",
   "name": "python3"
  },
  "language_info": {
   "codemirror_mode": {
    "name": "ipython",
    "version": 3
   },
   "file_extension": ".py",
   "mimetype": "text/x-python",
   "name": "python",
   "nbconvert_exporter": "python",
   "pygments_lexer": "ipython3",
   "version": "3.10.12"
  }
 },
 "nbformat": 4,
 "nbformat_minor": 5
}
