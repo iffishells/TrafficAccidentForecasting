{
 "cells": [
  {
   "cell_type": "code",
   "execution_count": 9,
   "id": "95c79cc2-5301-4faf-b106-49a9c3e70d8e",
   "metadata": {},
   "outputs": [],
   "source": [
    "# !pip install darts\n",
    "# !pip install -U kaleido"
   ]
  },
  {
   "cell_type": "markdown",
   "id": "68226190-12c3-4607-a3df-c7e3b5b9a515",
   "metadata": {},
   "source": [
    "## **Step 1: Import all the libraries and modules**"
   ]
  },
  {
   "cell_type": "code",
   "execution_count": 16,
   "id": "557a6936-65e6-4612-8b93-ee0b487bd5ec",
   "metadata": {},
   "outputs": [
    {
     "name": "stdout",
     "output_type": "stream",
     "text": [
      "The autoreload extension is already loaded. To reload it, use:\n",
      "  %reload_ext autoreload\n"
     ]
    }
   ],
   "source": [
    "import pandas as pd\n",
    "import numpy as np\n",
    "import os\n",
    "import sys\n",
    "\n",
    "%load_ext autoreload\n",
    "%autoreload 2\n",
    "\n",
    "target_dir = os.path.abspath(os.path.join(os.getcwd(), '..' ))\n",
    "sys.path.append(target_dir)\n",
    "# from Models.ARIMAModel.preprocessing import preprocess_df_to_ts\n",
    "\n",
    "from Models.ARIMAModel.preprocessing import preprocess_df_to_ts\n",
    "from Models.ARIMAModel.plot import plot_auto_correlation_plot\n",
    "from Models.ARIMAModel.plot import plot_partial_auto_correlation_plot\n",
    "from Models.ARIMAModel.evaluation import load_model_sarima_model\n",
    "from Models.ARIMAModel.evaluation import evaluation_of_model_sarima_Model\n",
    "from Models.ARIMAModel.test import inspect_seasonality\n",
    "from Models.ARIMAModel.ARIMA import train_arima_model\n",
    "\n",
    "\n",
    "\n",
    "from sklearn.model_selection import  train_test_split\n",
    "\n"
   ]
  },
  {
   "cell_type": "markdown",
   "id": "5aaeeff9-1367-4f08-a8b2-982a4379f9c6",
   "metadata": {},
   "source": [
    "## **Step 2 : Reading Data Daily Traffic Accident Forecasting**"
   ]
  },
  {
   "cell_type": "code",
   "execution_count": 32,
   "id": "02e93a00-f4c6-45ad-a1fd-31ff63f3bb60",
   "metadata": {},
   "outputs": [
    {
     "data": {
      "text/html": [
       "<div>\n",
       "<style scoped>\n",
       "    .dataframe tbody tr th:only-of-type {\n",
       "        vertical-align: middle;\n",
       "    }\n",
       "\n",
       "    .dataframe tbody tr th {\n",
       "        vertical-align: top;\n",
       "    }\n",
       "\n",
       "    .dataframe thead th {\n",
       "        text-align: right;\n",
       "    }\n",
       "</style>\n",
       "<table border=\"1\" class=\"dataframe\">\n",
       "  <thead>\n",
       "    <tr style=\"text-align: right;\">\n",
       "      <th></th>\n",
       "      <th>daily</th>\n",
       "      <th>daily_accident</th>\n",
       "    </tr>\n",
       "  </thead>\n",
       "  <tbody>\n",
       "    <tr>\n",
       "      <th>0</th>\n",
       "      <td>2018-01-01</td>\n",
       "      <td>234</td>\n",
       "    </tr>\n",
       "    <tr>\n",
       "      <th>1</th>\n",
       "      <td>2018-01-02</td>\n",
       "      <td>408</td>\n",
       "    </tr>\n",
       "    <tr>\n",
       "      <th>2</th>\n",
       "      <td>2018-01-03</td>\n",
       "      <td>231</td>\n",
       "    </tr>\n",
       "    <tr>\n",
       "      <th>3</th>\n",
       "      <td>2018-01-04</td>\n",
       "      <td>225</td>\n",
       "    </tr>\n",
       "    <tr>\n",
       "      <th>4</th>\n",
       "      <td>2018-01-05</td>\n",
       "      <td>342</td>\n",
       "    </tr>\n",
       "    <tr>\n",
       "      <th>...</th>\n",
       "      <td>...</td>\n",
       "      <td>...</td>\n",
       "    </tr>\n",
       "    <tr>\n",
       "      <th>1821</th>\n",
       "      <td>2022-12-27</td>\n",
       "      <td>183</td>\n",
       "    </tr>\n",
       "    <tr>\n",
       "      <th>1822</th>\n",
       "      <td>2022-12-28</td>\n",
       "      <td>177</td>\n",
       "    </tr>\n",
       "    <tr>\n",
       "      <th>1823</th>\n",
       "      <td>2022-12-29</td>\n",
       "      <td>191</td>\n",
       "    </tr>\n",
       "    <tr>\n",
       "      <th>1824</th>\n",
       "      <td>2022-12-30</td>\n",
       "      <td>193</td>\n",
       "    </tr>\n",
       "    <tr>\n",
       "      <th>1825</th>\n",
       "      <td>2022-12-31</td>\n",
       "      <td>179</td>\n",
       "    </tr>\n",
       "  </tbody>\n",
       "</table>\n",
       "<p>1826 rows × 2 columns</p>\n",
       "</div>"
      ],
      "text/plain": [
       "           daily  daily_accident\n",
       "0     2018-01-01             234\n",
       "1     2018-01-02             408\n",
       "2     2018-01-03             231\n",
       "3     2018-01-04             225\n",
       "4     2018-01-05             342\n",
       "...          ...             ...\n",
       "1821  2022-12-27             183\n",
       "1822  2022-12-28             177\n",
       "1823  2022-12-29             191\n",
       "1824  2022-12-30             193\n",
       "1825  2022-12-31             179\n",
       "\n",
       "[1826 rows x 2 columns]"
      ]
     },
     "execution_count": 32,
     "metadata": {},
     "output_type": "execute_result"
    }
   ],
   "source": [
    "daily_traffic_accident_data_path = '../data/processed/daily_data.csv'\n",
    "daily_accident_df = pd.read_csv(daily_traffic_accident_data_path)\n",
    "daily_accident_df"
   ]
  },
  {
   "cell_type": "markdown",
   "id": "d5c7b71b-babb-499e-aa13-386135bee482",
   "metadata": {},
   "source": [
    "## **Step 3 : Split the Data into train and test data**"
   ]
  },
  {
   "cell_type": "code",
   "execution_count": 5,
   "id": "f1788240-d977-4f0a-9435-3a2c839cdb57",
   "metadata": {},
   "outputs": [],
   "source": [
    "processed_train_df, processed_test_df = train_test_split(\n",
    "        daily_accident_df, test_size=0.245, random_state=42, shuffle=False\n",
    "    )"
   ]
  },
  {
   "cell_type": "markdown",
   "id": "8a7f37c1-d9c5-416e-b3d7-c9e2ba8dea97",
   "metadata": {},
   "source": [
    "## **Step 4 : Preprocess the data into Time series object**"
   ]
  },
  {
   "cell_type": "code",
   "execution_count": 6,
   "id": "c00dc1cf-0a6f-4681-8896-8a54c5d9307c",
   "metadata": {},
   "outputs": [
    {
     "name": "stdout",
     "output_type": "stream",
     "text": [
      "[INFO] Converting data into times series types\n"
     ]
    }
   ],
   "source": [
    "print('[INFO] Converting data into times series types')\n",
    "ts_train = preprocess_df_to_ts(processed_train_df,'daily','daily_accident','1D')\n",
    "ts_test = preprocess_df_to_ts(processed_test_df,'daily','daily_accident','1D')"
   ]
  },
  {
   "cell_type": "markdown",
   "id": "5cb7c765-32f7-4c94-9608-bd6ee36e7cf2",
   "metadata": {},
   "source": [
    "## **Step 5 : Plot the Auto Correlation Plot**"
   ]
  },
  {
   "cell_type": "code",
   "execution_count": 9,
   "id": "75efa850-aafa-4f4d-869d-b5a46f6a6cbf",
   "metadata": {},
   "outputs": [
    {
     "name": "stdout",
     "output_type": "stream",
     "text": [
      "[INFO] Plotting the auto correlation plot\n"
     ]
    }
   ],
   "source": [
    "print('[INFO] Plotting the auto correlation plot')\n",
    "plot_auto_correlation_plot(ts_train, m=2, max_lag=30,saving_path='../Datasets_visualization')\n"
   ]
  },
  {
   "cell_type": "markdown",
   "id": "1ac7e2d7-cbdb-4617-adfc-2cfba121f6be",
   "metadata": {},
   "source": [
    "## **Step 6 : Plot the Partial Auto Correlation Plot**"
   ]
  },
  {
   "cell_type": "code",
   "execution_count": 10,
   "id": "4e9b5ded-2dd4-486e-9aec-02bcff052762",
   "metadata": {},
   "outputs": [
    {
     "name": "stdout",
     "output_type": "stream",
     "text": [
      "[INFO] Plotting the Partial auto correlation plot\n"
     ]
    }
   ],
   "source": [
    "print('[INFO] Plotting the Partial auto correlation plot')\n",
    "plot_partial_auto_correlation_plot(ts_train, m=2, max_lag=30,saving_path='../Datasets_visualization')\n"
   ]
  },
  {
   "cell_type": "markdown",
   "id": "10606c92-2e97-4381-a53c-deca89221395",
   "metadata": {},
   "source": [
    "## **Step 7 : Checkout the seasonality of training dataset**"
   ]
  },
  {
   "cell_type": "code",
   "execution_count": 12,
   "id": "56132883-2c2b-467c-9c78-e66c39516c5c",
   "metadata": {},
   "outputs": [
    {
     "name": "stdout",
     "output_type": "stream",
     "text": [
      "There is seasonality of order 7.\n",
      "There is seasonality of order 14.\n",
      "There is seasonality of order 18.\n",
      "There is seasonality of order 21.\n",
      "There is seasonality of order : [7, 14, 18, 21]\n"
     ]
    },
    {
     "data": {
      "text/plain": [
       "[7, 14, 18, 21]"
      ]
     },
     "execution_count": 12,
     "metadata": {},
     "output_type": "execute_result"
    }
   ],
   "source": [
    "print('[INFO] Seasonality in the training datasets')\n",
    "inspect_seasonality(ts_train)"
   ]
  },
  {
   "cell_type": "markdown",
   "id": "e98b3d72-b4c8-4a11-a8bf-6dae358a85e5",
   "metadata": {},
   "source": [
    "## **Step 8 : Checkout the seasonality of testing dataset**"
   ]
  },
  {
   "cell_type": "code",
   "execution_count": 14,
   "id": "b83ca2c3-83d7-40d2-9d25-8ceebbbade5e",
   "metadata": {},
   "outputs": [
    {
     "name": "stdout",
     "output_type": "stream",
     "text": [
      "[INFO] Seasonality in the Testing datasets\n",
      "There is seasonality of order 3.\n",
      "There is seasonality of order 7.\n",
      "There is seasonality of order 14.\n",
      "There is seasonality of order : [3, 7, 14]\n"
     ]
    },
    {
     "data": {
      "text/plain": [
       "[3, 7, 14]"
      ]
     },
     "execution_count": 14,
     "metadata": {},
     "output_type": "execute_result"
    }
   ],
   "source": [
    "print('[INFO] Seasonality in the Testing datasets')\n",
    "inspect_seasonality(ts_test)"
   ]
  },
  {
   "cell_type": "markdown",
   "id": "3a3d1afd-28b8-45b1-ba9d-019317b1c914",
   "metadata": {},
   "source": [
    "## **Step 9 : Training SARIMA Model**"
   ]
  },
  {
   "cell_type": "code",
   "execution_count": 24,
   "id": "02b5ebc7-39ec-42b1-8908-4eb96b7ed5b9",
   "metadata": {},
   "outputs": [],
   "source": [
    "os.makedirs('../pkl',exist_ok=True)\n",
    "trained_model_file_name = f'../pkl/SARIMAModel_param_p_{p}_d_{d}_q_{q}_P_{P}_D_{D}_Q_{Q}_S_{S}.pkl'\n",
    "p, d, q, P, D, Q, S = 1,1,1,1,1,1,1\n",
    "arima_model = train_arima_model(ts_train, p, d, q, P, D, Q, 2)\n",
    "arima_model.save(trained_model_file_name)"
   ]
  },
  {
   "cell_type": "markdown",
   "id": "eab9ece8-3b3a-4c1c-9436-01e03abdc8f2",
   "metadata": {},
   "source": [
    "## **Step 10 : Loading the Trainined Model**"
   ]
  },
  {
   "cell_type": "code",
   "execution_count": 26,
   "id": "2bf765c7-000c-40c0-ae38-4be9d0b42463",
   "metadata": {},
   "outputs": [],
   "source": [
    "sarima_model = load_model_sarima_model(model_name=trained_model_file_name)\n"
   ]
  },
  {
   "cell_type": "markdown",
   "id": "447b274a-927e-4235-a0ae-aca352b6783d",
   "metadata": {},
   "source": [
    "## **Step 11 : Evaluation of the SARIMA Model**"
   ]
  },
  {
   "cell_type": "code",
   "execution_count": 30,
   "id": "bc6f43d1-f952-4c4e-8a6c-3228faf404bd",
   "metadata": {},
   "outputs": [
    {
     "name": "stdout",
     "output_type": "stream",
     "text": [
      "Evaluation of input window : 30 & Horizon : 418\n",
      "metrics: {'MAE': 533.17, 'RMSE': 609.77, 'MAPE': 187.3, 'MSE': 371816.02}\n",
      "Evaluation of input window : 60 & Horizon : 388\n",
      "metrics: {'MAE': 45.35, 'RMSE': 57.79, 'MAPE': 16.66, 'MSE': 3339.45}\n",
      "Evaluation of input window : 90 & Horizon : 358\n",
      "metrics: {'MAE': 152.73, 'RMSE': 173.4, 'MAPE': 51.33, 'MSE': 30067.37}\n",
      "Evaluation of input window : 120 & Horizon : 328\n",
      "metrics: {'MAE': 60.68, 'RMSE': 74.87, 'MAPE': 19.85, 'MSE': 5605.57}\n",
      "Evaluation of input window : 150 & Horizon : 298\n",
      "metrics: {'MAE': 73.29, 'RMSE': 87.85, 'MAPE': 23.51, 'MSE': 7718.02}\n"
     ]
    }
   ],
   "source": [
    "evaluation_sarima_df = evaluation_of_model_sarima_Model(trained_model_file_name,\n",
    "                                                    ts_test=ts_test,\n",
    "                                                    ts_train=ts_train)"
   ]
  },
  {
   "cell_type": "markdown",
   "id": "f2d1aeea-0902-4618-98b3-9ec78a40c2f0",
   "metadata": {},
   "source": [
    "## **Step 12 : Saving the Statistical Results**"
   ]
  },
  {
   "cell_type": "code",
   "execution_count": 31,
   "id": "49426970-10db-454a-b3ac-f8cd6b54eed2",
   "metadata": {},
   "outputs": [],
   "source": [
    "statistical_result_save_path = os.path.join(\"../StatisticalResults\")\n",
    "os.makedirs(statistical_result_save_path,exist_ok=True)\n",
    "evaluation_sarima_df.to_csv(\n",
    "    f\"{statistical_result_save_path}/sarima_evaluation_results.csv\", index=False\n",
    ")\n"
   ]
  },
  {
   "cell_type": "code",
   "execution_count": null,
   "id": "6f829a70-b892-41e0-b93a-465208b3e22b",
   "metadata": {},
   "outputs": [],
   "source": []
  }
 ],
 "metadata": {
  "kernelspec": {
   "display_name": "Python 3",
   "language": "python",
   "name": "python3"
  },
  "language_info": {
   "codemirror_mode": {
    "name": "ipython",
    "version": 3
   },
   "file_extension": ".py",
   "mimetype": "text/x-python",
   "name": "python",
   "nbconvert_exporter": "python",
   "pygments_lexer": "ipython3",
   "version": "3.10.12"
  }
 },
 "nbformat": 4,
 "nbformat_minor": 5
}
