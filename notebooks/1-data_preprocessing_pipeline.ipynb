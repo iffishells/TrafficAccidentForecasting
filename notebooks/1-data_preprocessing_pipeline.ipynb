{
 "cells": [
  {
   "cell_type": "code",
   "execution_count": 1,
   "id": "7258cf0e-0370-4396-b56e-5e57a570b85a",
   "metadata": {},
   "outputs": [],
   "source": [
    "# pip install darts\n",
    "# !pip install -U kaleido"
   ]
  },
  {
   "cell_type": "code",
   "execution_count": 8,
   "id": "initial_id",
   "metadata": {
    "ExecuteTime": {
     "end_time": "2024-03-20T07:00:04.813228Z",
     "start_time": "2024-03-20T07:00:04.784108Z"
    }
   },
   "outputs": [
    {
     "name": "stdout",
     "output_type": "stream",
     "text": [
      "The autoreload extension is already loaded. To reload it, use:\n",
      "  %reload_ext autoreload\n"
     ]
    }
   ],
   "source": [
    "import pandas as pd\n",
    "import numpy as np\n",
    "import os\n",
    "import sys\n",
    "\n",
    "%load_ext autoreload\n",
    "%autoreload 2\n",
    "\n",
    "target_dir = os.path.abspath(os.path.join(os.getcwd(), '..' ))\n",
    "sys.path.append(target_dir)\n",
    "\n",
    "from src.features.preprocessing import give_me_downsample_data\n",
    "from src.visualization.visualize import DataVisualization"
   ]
  },
  {
   "cell_type": "markdown",
   "id": "d4dca1b4-8d8a-4692-85a6-3545a73a3385",
   "metadata": {},
   "source": [
    "## **Setting Path** "
   ]
  },
  {
   "cell_type": "code",
   "execution_count": 9,
   "id": "e0745c2dbd40d9ec",
   "metadata": {
    "collapsed": false,
    "jupyter": {
     "outputs_hidden": false
    }
   },
   "outputs": [],
   "source": [
    "raw_data_path = '../data/raw/dft-road-casualty-statistics-collision-last-5-years.csv'\n",
    "selected_feature_raw_data_path = '../data/raw/dft-road-selected_feature_raw_data.csv'\n",
    "traffic_accident_weekly_path = 'data/processed/dft-weekly_accident.csv'\n",
    "\n",
    "only_use_column = ['accident_year','date','day_of_week','time'] "
   ]
  },
  {
   "cell_type": "markdown",
   "id": "aedf24df-3bbd-48b1-81cf-e88068179243",
   "metadata": {},
   "source": [
    "## **Reading Raw Data**"
   ]
  },
  {
   "cell_type": "code",
   "execution_count": 10,
   "id": "4517a9dd-6523-4ae8-8dbb-4e092f08d2fd",
   "metadata": {},
   "outputs": [],
   "source": [
    "df = pd.read_csv(raw_data_path,low_memory=False)\n",
    "# df =  df.head(100)\n",
    "selected_feature_df = df[only_use_column]\n",
    "selected_feature_df.to_csv(f'{selected_feature_raw_data_path}',index=False)\n"
   ]
  },
  {
   "cell_type": "markdown",
   "id": "3939bcb6-5218-4e1d-8645-68e81a19a20e",
   "metadata": {},
   "source": [
    "## **Feature Engineering**"
   ]
  },
  {
   "cell_type": "markdown",
   "id": "81132db2-2341-4ae6-86cb-a5da531f2ac5",
   "metadata": {},
   "source": [
    "## **Weekly Traffic Accident**"
   ]
  },
  {
   "cell_type": "code",
   "execution_count": 4,
   "id": "7bd8ceca-8e17-44c8-987a-98fd7db2f5c1",
   "metadata": {},
   "outputs": [
    {
     "name": "stdout",
     "output_type": "stream",
     "text": [
      "Preprocessing on Weekly Data.......\n"
     ]
    },
    {
     "name": "stderr",
     "output_type": "stream",
     "text": [
      "/app/src/features/preprocessing.py:10: SettingWithCopyWarning: \n",
      "A value is trying to be set on a copy of a slice from a DataFrame.\n",
      "Try using .loc[row_indexer,col_indexer] = value instead\n",
      "\n",
      "See the caveats in the documentation: https://pandas.pydata.org/pandas-docs/stable/user_guide/indexing.html#returning-a-view-versus-a-copy\n",
      "  df['date'] = pd.to_datetime(df['date'], format='mixed')  # Corrected format\n"
     ]
    },
    {
     "name": "stdout",
     "output_type": "stream",
     "text": [
      "Saving Weekly data in Directory: ../data/processed/weekly_data.csv\n"
     ]
    },
    {
     "name": "stderr",
     "output_type": "stream",
     "text": [
      "/app/src/features/preprocessing.py:11: SettingWithCopyWarning: \n",
      "A value is trying to be set on a copy of a slice from a DataFrame.\n",
      "Try using .loc[row_indexer,col_indexer] = value instead\n",
      "\n",
      "See the caveats in the documentation: https://pandas.pydata.org/pandas-docs/stable/user_guide/indexing.html#returning-a-view-versus-a-copy\n",
      "  df['weekly'] = df['date'].dt.strftime('%Y-%m-%W')  # Changed to %U for week number\n"
     ]
    },
    {
     "data": {
      "text/html": [
       "<div>\n",
       "<style scoped>\n",
       "    .dataframe tbody tr th:only-of-type {\n",
       "        vertical-align: middle;\n",
       "    }\n",
       "\n",
       "    .dataframe tbody tr th {\n",
       "        vertical-align: top;\n",
       "    }\n",
       "\n",
       "    .dataframe thead th {\n",
       "        text-align: right;\n",
       "    }\n",
       "</style>\n",
       "<table border=\"1\" class=\"dataframe\">\n",
       "  <thead>\n",
       "    <tr style=\"text-align: right;\">\n",
       "      <th></th>\n",
       "      <th>weekly</th>\n",
       "      <th>weekly_accident</th>\n",
       "    </tr>\n",
       "  </thead>\n",
       "  <tbody>\n",
       "    <tr>\n",
       "      <th>0</th>\n",
       "      <td>2018-01-01</td>\n",
       "      <td>2092</td>\n",
       "    </tr>\n",
       "    <tr>\n",
       "      <th>1</th>\n",
       "      <td>2018-01-02</td>\n",
       "      <td>2228</td>\n",
       "    </tr>\n",
       "    <tr>\n",
       "      <th>2</th>\n",
       "      <td>2018-01-03</td>\n",
       "      <td>2514</td>\n",
       "    </tr>\n",
       "    <tr>\n",
       "      <th>3</th>\n",
       "      <td>2018-01-04</td>\n",
       "      <td>2332</td>\n",
       "    </tr>\n",
       "    <tr>\n",
       "      <th>4</th>\n",
       "      <td>2018-01-05</td>\n",
       "      <td>1138</td>\n",
       "    </tr>\n",
       "    <tr>\n",
       "      <th>5</th>\n",
       "      <td>2018-02-05</td>\n",
       "      <td>1050</td>\n",
       "    </tr>\n",
       "    <tr>\n",
       "      <th>6</th>\n",
       "      <td>2018-02-06</td>\n",
       "      <td>2538</td>\n",
       "    </tr>\n",
       "    <tr>\n",
       "      <th>7</th>\n",
       "      <td>2018-02-07</td>\n",
       "      <td>2364</td>\n",
       "    </tr>\n",
       "    <tr>\n",
       "      <th>8</th>\n",
       "      <td>2018-02-08</td>\n",
       "      <td>2181</td>\n",
       "    </tr>\n",
       "    <tr>\n",
       "      <th>9</th>\n",
       "      <td>2018-02-09</td>\n",
       "      <td>895</td>\n",
       "    </tr>\n",
       "  </tbody>\n",
       "</table>\n",
       "</div>"
      ],
      "text/plain": [
       "       weekly  weekly_accident\n",
       "0  2018-01-01             2092\n",
       "1  2018-01-02             2228\n",
       "2  2018-01-03             2514\n",
       "3  2018-01-04             2332\n",
       "4  2018-01-05             1138\n",
       "5  2018-02-05             1050\n",
       "6  2018-02-06             2538\n",
       "7  2018-02-07             2364\n",
       "8  2018-02-08             2181\n",
       "9  2018-02-09              895"
      ]
     },
     "execution_count": 4,
     "metadata": {},
     "output_type": "execute_result"
    }
   ],
   "source": [
    "from src.features.preprocessing import give_me_downsample_data\n",
    "\n",
    "weekly_df =  give_me_downsample_data(at_sampling_freq='weekly',\n",
    "                        df=selected_feature_df , \n",
    "                        save_file=True,\n",
    "                       parent_save_path=os.path.join('..','data','processed')\n",
    "                       )\n",
    "\n",
    "weekly_df.head(10)"
   ]
  },
  {
   "cell_type": "markdown",
   "id": "bef87f14-ffaa-47da-924c-83539bc6639b",
   "metadata": {},
   "source": [
    "## **Monthly Traffic Accident**"
   ]
  },
  {
   "cell_type": "code",
   "execution_count": 5,
   "id": "de27c0a7-51e5-4e85-afae-f1f070b23ff6",
   "metadata": {},
   "outputs": [
    {
     "name": "stderr",
     "output_type": "stream",
     "text": [
      "/app/src/features/preprocessing.py:23: SettingWithCopyWarning: \n",
      "A value is trying to be set on a copy of a slice from a DataFrame.\n",
      "Try using .loc[row_indexer,col_indexer] = value instead\n",
      "\n",
      "See the caveats in the documentation: https://pandas.pydata.org/pandas-docs/stable/user_guide/indexing.html#returning-a-view-versus-a-copy\n",
      "  df['date'] = pd.to_datetime(df['date'], format='mixed')  # Corrected format\n"
     ]
    },
    {
     "name": "stdout",
     "output_type": "stream",
     "text": [
      "Preprocessing on Monthly Data.......\n",
      "Saving Monthly data in Directory: ../data/processed/monthly_data.csv\n"
     ]
    },
    {
     "name": "stderr",
     "output_type": "stream",
     "text": [
      "/app/src/features/preprocessing.py:24: SettingWithCopyWarning: \n",
      "A value is trying to be set on a copy of a slice from a DataFrame.\n",
      "Try using .loc[row_indexer,col_indexer] = value instead\n",
      "\n",
      "See the caveats in the documentation: https://pandas.pydata.org/pandas-docs/stable/user_guide/indexing.html#returning-a-view-versus-a-copy\n",
      "  df['monthly'] = df['date'].dt.strftime('%Y-%m')\n"
     ]
    },
    {
     "data": {
      "text/html": [
       "<div>\n",
       "<style scoped>\n",
       "    .dataframe tbody tr th:only-of-type {\n",
       "        vertical-align: middle;\n",
       "    }\n",
       "\n",
       "    .dataframe tbody tr th {\n",
       "        vertical-align: top;\n",
       "    }\n",
       "\n",
       "    .dataframe thead th {\n",
       "        text-align: right;\n",
       "    }\n",
       "</style>\n",
       "<table border=\"1\" class=\"dataframe\">\n",
       "  <thead>\n",
       "    <tr style=\"text-align: right;\">\n",
       "      <th></th>\n",
       "      <th>monthly</th>\n",
       "      <th>monthly_accident</th>\n",
       "    </tr>\n",
       "  </thead>\n",
       "  <tbody>\n",
       "    <tr>\n",
       "      <th>0</th>\n",
       "      <td>2018-01</td>\n",
       "      <td>10304</td>\n",
       "    </tr>\n",
       "    <tr>\n",
       "      <th>1</th>\n",
       "      <td>2018-02</td>\n",
       "      <td>9028</td>\n",
       "    </tr>\n",
       "    <tr>\n",
       "      <th>2</th>\n",
       "      <td>2018-03</td>\n",
       "      <td>9449</td>\n",
       "    </tr>\n",
       "    <tr>\n",
       "      <th>3</th>\n",
       "      <td>2018-04</td>\n",
       "      <td>9753</td>\n",
       "    </tr>\n",
       "    <tr>\n",
       "      <th>4</th>\n",
       "      <td>2018-05</td>\n",
       "      <td>10851</td>\n",
       "    </tr>\n",
       "  </tbody>\n",
       "</table>\n",
       "</div>"
      ],
      "text/plain": [
       "   monthly  monthly_accident\n",
       "0  2018-01             10304\n",
       "1  2018-02              9028\n",
       "2  2018-03              9449\n",
       "3  2018-04              9753\n",
       "4  2018-05             10851"
      ]
     },
     "execution_count": 5,
     "metadata": {},
     "output_type": "execute_result"
    }
   ],
   "source": [
    "monthly_df = give_me_downsample_data(at_sampling_freq='monthly',\n",
    "                        df=selected_feature_df , \n",
    "                        save_file=True,\n",
    "                       parent_save_path=os.path.join('..','data','processed')\n",
    "                       )\n",
    "\n",
    "monthly_df.head()"
   ]
  },
  {
   "cell_type": "markdown",
   "id": "499d14f6-41b8-4cc7-b396-8f3e506b2546",
   "metadata": {},
   "source": [
    "## **Daily Traffic accident**"
   ]
  },
  {
   "cell_type": "code",
   "execution_count": 6,
   "id": "07d17ffa-4f2d-47f4-9b76-322bf91726bd",
   "metadata": {},
   "outputs": [
    {
     "name": "stderr",
     "output_type": "stream",
     "text": [
      "/app/src/features/preprocessing.py:36: SettingWithCopyWarning: \n",
      "A value is trying to be set on a copy of a slice from a DataFrame.\n",
      "Try using .loc[row_indexer,col_indexer] = value instead\n",
      "\n",
      "See the caveats in the documentation: https://pandas.pydata.org/pandas-docs/stable/user_guide/indexing.html#returning-a-view-versus-a-copy\n",
      "  df['date'] = pd.to_datetime(df['date'], format='mixed')  # Corrected format\n"
     ]
    },
    {
     "name": "stdout",
     "output_type": "stream",
     "text": [
      "Preprocessing on Daily Data.......\n",
      "Saving Monthly data in Directory: ../data/processed/daily_data.csv\n"
     ]
    },
    {
     "name": "stderr",
     "output_type": "stream",
     "text": [
      "/app/src/features/preprocessing.py:37: SettingWithCopyWarning: \n",
      "A value is trying to be set on a copy of a slice from a DataFrame.\n",
      "Try using .loc[row_indexer,col_indexer] = value instead\n",
      "\n",
      "See the caveats in the documentation: https://pandas.pydata.org/pandas-docs/stable/user_guide/indexing.html#returning-a-view-versus-a-copy\n",
      "  df['daily'] = df['date'].dt.strftime('%Y-%m-%d')\n"
     ]
    },
    {
     "data": {
      "text/html": [
       "<div>\n",
       "<style scoped>\n",
       "    .dataframe tbody tr th:only-of-type {\n",
       "        vertical-align: middle;\n",
       "    }\n",
       "\n",
       "    .dataframe tbody tr th {\n",
       "        vertical-align: top;\n",
       "    }\n",
       "\n",
       "    .dataframe thead th {\n",
       "        text-align: right;\n",
       "    }\n",
       "</style>\n",
       "<table border=\"1\" class=\"dataframe\">\n",
       "  <thead>\n",
       "    <tr style=\"text-align: right;\">\n",
       "      <th></th>\n",
       "      <th>daily</th>\n",
       "      <th>daily_accident</th>\n",
       "    </tr>\n",
       "  </thead>\n",
       "  <tbody>\n",
       "    <tr>\n",
       "      <th>0</th>\n",
       "      <td>2018-01-01</td>\n",
       "      <td>234</td>\n",
       "    </tr>\n",
       "    <tr>\n",
       "      <th>1</th>\n",
       "      <td>2018-01-02</td>\n",
       "      <td>408</td>\n",
       "    </tr>\n",
       "    <tr>\n",
       "      <th>2</th>\n",
       "      <td>2018-01-03</td>\n",
       "      <td>231</td>\n",
       "    </tr>\n",
       "    <tr>\n",
       "      <th>3</th>\n",
       "      <td>2018-01-04</td>\n",
       "      <td>225</td>\n",
       "    </tr>\n",
       "    <tr>\n",
       "      <th>4</th>\n",
       "      <td>2018-01-05</td>\n",
       "      <td>342</td>\n",
       "    </tr>\n",
       "  </tbody>\n",
       "</table>\n",
       "</div>"
      ],
      "text/plain": [
       "        daily  daily_accident\n",
       "0  2018-01-01             234\n",
       "1  2018-01-02             408\n",
       "2  2018-01-03             231\n",
       "3  2018-01-04             225\n",
       "4  2018-01-05             342"
      ]
     },
     "execution_count": 6,
     "metadata": {},
     "output_type": "execute_result"
    }
   ],
   "source": [
    "daily_df = give_me_downsample_data(at_sampling_freq='daily',\n",
    "                        df=selected_feature_df , \n",
    "                        save_file=True,\n",
    "                       parent_save_path=os.path.join('..','data','processed')\n",
    "                       )\n",
    "\n",
    "daily_df.head()"
   ]
  },
  {
   "cell_type": "code",
   "execution_count": 7,
   "id": "a6222d02-269f-410d-aecf-d045320c4fdb",
   "metadata": {},
   "outputs": [],
   "source": [
    "data_visualization_ = DataVisualization()\n",
    "data_visualization_(df=monthly_df,\n",
    "                     scatter_plot=True,\n",
    "                     x_label = 'monthly',\n",
    "                    y_label = 'monthly_accident',\n",
    "                   title = 'Monthly_data'\n",
    "                   )\n",
    "\n",
    "\n",
    "\n",
    "data_visualization_(df=weekly_df,\n",
    "                     scatter_plot=True,\n",
    "                     x_label = 'weekly',\n",
    "                    y_label = 'weekly_accident',\n",
    "                   title = 'weekly_data')\n",
    "data_visualization_(df=daily_df,\n",
    "                     scatter_plot=True,\n",
    "                     x_label = 'daily',\n",
    "                    y_label = 'daily_accident',\n",
    "                   title = 'daily_data'\n",
    "                   )"
   ]
  },
  {
   "cell_type": "code",
   "execution_count": null,
   "id": "98530f7d-5e6f-4def-b502-940074329e93",
   "metadata": {},
   "outputs": [],
   "source": []
  },
  {
   "cell_type": "code",
   "execution_count": null,
   "id": "31b5e584-1271-4210-974d-683198718a37",
   "metadata": {},
   "outputs": [],
   "source": []
  }
 ],
 "metadata": {
  "kernelspec": {
   "display_name": "Python 3",
   "language": "python",
   "name": "python3"
  },
  "language_info": {
   "codemirror_mode": {
    "name": "ipython",
    "version": 3
   },
   "file_extension": ".py",
   "mimetype": "text/x-python",
   "name": "python",
   "nbconvert_exporter": "python",
   "pygments_lexer": "ipython3",
   "version": "3.10.12"
  }
 },
 "nbformat": 4,
 "nbformat_minor": 5
}
