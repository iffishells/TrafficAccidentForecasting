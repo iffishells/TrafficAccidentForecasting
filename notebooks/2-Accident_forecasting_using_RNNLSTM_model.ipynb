{
 "cells": [
  {
   "cell_type": "code",
   "execution_count": 3,
   "id": "95c79cc2-5301-4faf-b106-49a9c3e70d8e",
   "metadata": {},
   "outputs": [],
   "source": [
    "# !pip install darts\n",
    "# !pip install -U kaleido"
   ]
  },
  {
   "cell_type": "markdown",
   "id": "68226190-12c3-4607-a3df-c7e3b5b9a515",
   "metadata": {},
   "source": [
    "## **Step 1: Import all the libraries and modules**"
   ]
  },
  {
   "cell_type": "code",
   "execution_count": 9,
   "id": "557a6936-65e6-4612-8b93-ee0b487bd5ec",
   "metadata": {},
   "outputs": [
    {
     "name": "stdout",
     "output_type": "stream",
     "text": [
      "The autoreload extension is already loaded. To reload it, use:\n",
      "  %reload_ext autoreload\n"
     ]
    }
   ],
   "source": [
    "import pandas as pd\n",
    "import numpy as np\n",
    "import os\n",
    "import sys\n",
    "\n",
    "%load_ext autoreload\n",
    "%autoreload 2\n",
    "\n",
    "target_dir = os.path.abspath(os.path.join(os.getcwd(), '..' ))\n",
    "sys.path.append(target_dir)\n",
    "          \n",
    "from Models.RNNLSTMModel.preprocessing import split_train_valid_test\n",
    "from Models.RNNLSTMModel.preprocessing import transformed_ts\n",
    "from Models.RNNLSTMModel.RNNLSTMMODEL import RNNLSTMModel\n",
    "from Models.RNNLSTMModel.evaluation import evaluation_of_model_RnnLstm_Model    \n",
    "\n",
    "from Models.ARIMAModel.preprocessing import preprocess_df_to_ts\n",
    "\n",
    "from sklearn.model_selection import  train_test_split\n",
    "import logging\n",
    "import gc\n",
    "\n",
    "import sys\n",
    "import warnings\n",
    "warnings.filterwarnings(\"ignore\")\n",
    "logging.disable(logging.CRITICAL)"
   ]
  },
  {
   "cell_type": "markdown",
   "id": "5aaeeff9-1367-4f08-a8b2-982a4379f9c6",
   "metadata": {},
   "source": [
    "## **Step 2 : Reading Data Daily Traffic Accident Forecasting**"
   ]
  },
  {
   "cell_type": "code",
   "execution_count": 10,
   "id": "02e93a00-f4c6-45ad-a1fd-31ff63f3bb60",
   "metadata": {},
   "outputs": [
    {
     "data": {
      "text/html": [
       "<div>\n",
       "<style scoped>\n",
       "    .dataframe tbody tr th:only-of-type {\n",
       "        vertical-align: middle;\n",
       "    }\n",
       "\n",
       "    .dataframe tbody tr th {\n",
       "        vertical-align: top;\n",
       "    }\n",
       "\n",
       "    .dataframe thead th {\n",
       "        text-align: right;\n",
       "    }\n",
       "</style>\n",
       "<table border=\"1\" class=\"dataframe\">\n",
       "  <thead>\n",
       "    <tr style=\"text-align: right;\">\n",
       "      <th></th>\n",
       "      <th>daily</th>\n",
       "      <th>daily_accident</th>\n",
       "    </tr>\n",
       "  </thead>\n",
       "  <tbody>\n",
       "    <tr>\n",
       "      <th>0</th>\n",
       "      <td>2018-01-01</td>\n",
       "      <td>234</td>\n",
       "    </tr>\n",
       "    <tr>\n",
       "      <th>1</th>\n",
       "      <td>2018-01-02</td>\n",
       "      <td>408</td>\n",
       "    </tr>\n",
       "    <tr>\n",
       "      <th>2</th>\n",
       "      <td>2018-01-03</td>\n",
       "      <td>231</td>\n",
       "    </tr>\n",
       "    <tr>\n",
       "      <th>3</th>\n",
       "      <td>2018-01-04</td>\n",
       "      <td>225</td>\n",
       "    </tr>\n",
       "    <tr>\n",
       "      <th>4</th>\n",
       "      <td>2018-01-05</td>\n",
       "      <td>342</td>\n",
       "    </tr>\n",
       "    <tr>\n",
       "      <th>...</th>\n",
       "      <td>...</td>\n",
       "      <td>...</td>\n",
       "    </tr>\n",
       "    <tr>\n",
       "      <th>1821</th>\n",
       "      <td>2022-12-27</td>\n",
       "      <td>183</td>\n",
       "    </tr>\n",
       "    <tr>\n",
       "      <th>1822</th>\n",
       "      <td>2022-12-28</td>\n",
       "      <td>177</td>\n",
       "    </tr>\n",
       "    <tr>\n",
       "      <th>1823</th>\n",
       "      <td>2022-12-29</td>\n",
       "      <td>191</td>\n",
       "    </tr>\n",
       "    <tr>\n",
       "      <th>1824</th>\n",
       "      <td>2022-12-30</td>\n",
       "      <td>193</td>\n",
       "    </tr>\n",
       "    <tr>\n",
       "      <th>1825</th>\n",
       "      <td>2022-12-31</td>\n",
       "      <td>179</td>\n",
       "    </tr>\n",
       "  </tbody>\n",
       "</table>\n",
       "<p>1826 rows × 2 columns</p>\n",
       "</div>"
      ],
      "text/plain": [
       "           daily  daily_accident\n",
       "0     2018-01-01             234\n",
       "1     2018-01-02             408\n",
       "2     2018-01-03             231\n",
       "3     2018-01-04             225\n",
       "4     2018-01-05             342\n",
       "...          ...             ...\n",
       "1821  2022-12-27             183\n",
       "1822  2022-12-28             177\n",
       "1823  2022-12-29             191\n",
       "1824  2022-12-30             193\n",
       "1825  2022-12-31             179\n",
       "\n",
       "[1826 rows x 2 columns]"
      ]
     },
     "execution_count": 10,
     "metadata": {},
     "output_type": "execute_result"
    }
   ],
   "source": [
    "daily_traffic_accident_data_path = '../data/processed/daily_data.csv'\n",
    "daily_accident_df = pd.read_csv(daily_traffic_accident_data_path)\n",
    "daily_accident_df"
   ]
  },
  {
   "cell_type": "markdown",
   "id": "d5c7b71b-babb-499e-aa13-386135bee482",
   "metadata": {},
   "source": [
    "## **Step 3 : Split the Data into train and test data**"
   ]
  },
  {
   "cell_type": "code",
   "execution_count": 11,
   "id": "f1788240-d977-4f0a-9435-3a2c839cdb57",
   "metadata": {},
   "outputs": [],
   "source": [
    "processed_train_df, processed_test_df = train_test_split(\n",
    "        daily_accident_df, test_size=0.245, random_state=42, shuffle=False)"
   ]
  },
  {
   "cell_type": "markdown",
   "id": "8a7f37c1-d9c5-416e-b3d7-c9e2ba8dea97",
   "metadata": {},
   "source": [
    "## **Step 4 : Preprocess the data into Time series object**"
   ]
  },
  {
   "cell_type": "code",
   "execution_count": 12,
   "id": "c00dc1cf-0a6f-4681-8896-8a54c5d9307c",
   "metadata": {},
   "outputs": [
    {
     "name": "stdout",
     "output_type": "stream",
     "text": [
      "[INFO] Converting data into times series types\n"
     ]
    }
   ],
   "source": [
    "print('[INFO] Converting data into times series types')\n",
    "ts_train = preprocess_df_to_ts(processed_train_df,'daily','daily_accident','1D')\n",
    "ts_test = preprocess_df_to_ts(processed_test_df,'daily','daily_accident','1D')"
   ]
  },
  {
   "cell_type": "markdown",
   "id": "c2cea921-bc5d-4b09-bb2f-d8add8ecc17d",
   "metadata": {},
   "source": [
    "## **Step 5 : Split the data into train and validation**"
   ]
  },
  {
   "cell_type": "code",
   "execution_count": 13,
   "id": "8eb36a10-d4a4-4f84-824d-60507cb8e651",
   "metadata": {},
   "outputs": [],
   "source": [
    "train_subset, val_subset = split_train_valid_test(ts_train, split_point=0.9)"
   ]
  },
  {
   "cell_type": "markdown",
   "id": "8c98473b-c1e2-4c38-aa76-a186e8def25c",
   "metadata": {},
   "source": [
    "## **Step 6 : Scale & Normalize the data before fitting the RNN_LSTM Model**"
   ]
  },
  {
   "cell_type": "code",
   "execution_count": 14,
   "id": "a4faf661-58a9-49d9-8d59-4d77453d429e",
   "metadata": {},
   "outputs": [
    {
     "name": "stdout",
     "output_type": "stream",
     "text": [
      "[INFO] Preprocessing Data for RNN-LSTM Model\n"
     ]
    }
   ],
   "source": [
    "print('[INFO] Preprocessing Data for RNN-LSTM Model')\n",
    "(\n",
    "transformer_object,\n",
    "train_ts_transformed,\n",
    "val_ts_transformed,\n",
    "series_ts_transformed,  \n",
    ") = transformed_ts(ts_train, \n",
    "                val_subset, \n",
    "                train_subset, \n",
    "            train_data_status=True)"
   ]
  },
  {
   "cell_type": "markdown",
   "id": "1808411c-8010-4cba-8281-2b4b61ee87f1",
   "metadata": {},
   "source": [
    "## **Step 7 : Training RNNLSTM Model**"
   ]
  },
  {
   "cell_type": "code",
   "execution_count": 15,
   "id": "4a9bfaae-6b14-4be7-acae-7418193c0818",
   "metadata": {},
   "outputs": [
    {
     "data": {
      "application/vnd.jupyter.widget-view+json": {
       "model_id": "57319fec84e044eaba18a5c869e4e437",
       "version_major": 2,
       "version_minor": 0
      },
      "text/plain": [
       "Sanity Checking: |          | 0/? [00:00<?, ?it/s]"
      ]
     },
     "metadata": {},
     "output_type": "display_data"
    },
    {
     "data": {
      "application/vnd.jupyter.widget-view+json": {
       "model_id": "cf784e35031740d8aac838e27e8b3f1e",
       "version_major": 2,
       "version_minor": 0
      },
      "text/plain": [
       "Training: |          | 0/? [00:00<?, ?it/s]"
      ]
     },
     "metadata": {},
     "output_type": "display_data"
    },
    {
     "data": {
      "application/vnd.jupyter.widget-view+json": {
       "model_id": "cedda54fc32343ebb9e413bfbe720df9",
       "version_major": 2,
       "version_minor": 0
      },
      "text/plain": [
       "Validation: |          | 0/? [00:00<?, ?it/s]"
      ]
     },
     "metadata": {},
     "output_type": "display_data"
    },
    {
     "data": {
      "application/vnd.jupyter.widget-view+json": {
       "model_id": "9112d53dbf1a4b40980e53c6980a49ab",
       "version_major": 2,
       "version_minor": 0
      },
      "text/plain": [
       "Validation: |          | 0/? [00:00<?, ?it/s]"
      ]
     },
     "metadata": {},
     "output_type": "display_data"
    }
   ],
   "source": [
    "rnn_lstm_model = RNNLSTMModel(train_ts_transformed, val_ts_transformed)\n"
   ]
  },
  {
   "cell_type": "markdown",
   "id": "86635106-f138-4dcf-a26d-0d910a80a99b",
   "metadata": {},
   "source": [
    "## **Step 8 : Evaluation of the RNNLSTM Model**"
   ]
  },
  {
   "cell_type": "code",
   "execution_count": 16,
   "id": "e3022f8b-b3e8-4885-ae1c-b66f2c7d8348",
   "metadata": {},
   "outputs": [
    {
     "name": "stdout",
     "output_type": "stream",
     "text": [
      "[INFO] Evaluation of RNN-LSTM Model\n",
      "window_size :30\n",
      "Evaluation of input window : 30 & Horizon : 418\n"
     ]
    },
    {
     "data": {
      "application/vnd.jupyter.widget-view+json": {
       "model_id": "fe0053b01fc8471eac48821b6fc5d0cc",
       "version_major": 2,
       "version_minor": 0
      },
      "text/plain": [
       "Predicting: |          | 0/? [00:00<?, ?it/s]"
      ]
     },
     "metadata": {},
     "output_type": "display_data"
    },
    {
     "name": "stdout",
     "output_type": "stream",
     "text": [
      "metrics: {'MAE': 43.25, 'RMSE': 55.41, 'MAPE': 16.79, 'MSE': 3070.7}\n",
      "window_size :60\n",
      "Evaluation of input window : 60 & Horizon : 388\n"
     ]
    },
    {
     "data": {
      "application/vnd.jupyter.widget-view+json": {
       "model_id": "b586fb41de914e7a9501f8da076c3886",
       "version_major": 2,
       "version_minor": 0
      },
      "text/plain": [
       "Predicting: |          | 0/? [00:00<?, ?it/s]"
      ]
     },
     "metadata": {},
     "output_type": "display_data"
    },
    {
     "name": "stdout",
     "output_type": "stream",
     "text": [
      "metrics: {'MAE': 43.65, 'RMSE': 55.77, 'MAPE': 17.07, 'MSE': 3110.02}\n",
      "window_size :90\n",
      "Evaluation of input window : 90 & Horizon : 358\n"
     ]
    },
    {
     "data": {
      "application/vnd.jupyter.widget-view+json": {
       "model_id": "b2063c77f2764518b18b08390d6ecdb4",
       "version_major": 2,
       "version_minor": 0
      },
      "text/plain": [
       "Predicting: |          | 0/? [00:00<?, ?it/s]"
      ]
     },
     "metadata": {},
     "output_type": "display_data"
    },
    {
     "name": "stdout",
     "output_type": "stream",
     "text": [
      "metrics: {'MAE': 42.32, 'RMSE': 53.77, 'MAPE': 16.0, 'MSE': 2890.73}\n",
      "window_size :120\n",
      "Evaluation of input window : 120 & Horizon : 328\n"
     ]
    },
    {
     "data": {
      "application/vnd.jupyter.widget-view+json": {
       "model_id": "87669c880e134c63beee64df76dd757b",
       "version_major": 2,
       "version_minor": 0
      },
      "text/plain": [
       "Predicting: |          | 0/? [00:00<?, ?it/s]"
      ]
     },
     "metadata": {},
     "output_type": "display_data"
    },
    {
     "name": "stdout",
     "output_type": "stream",
     "text": [
      "metrics: {'MAE': 41.65, 'RMSE': 52.75, 'MAPE': 15.83, 'MSE': 2782.79}\n",
      "window_size :150\n",
      "Evaluation of input window : 150 & Horizon : 298\n"
     ]
    },
    {
     "data": {
      "application/vnd.jupyter.widget-view+json": {
       "model_id": "96bc1e3a08684fae80cae9dcddc15184",
       "version_major": 2,
       "version_minor": 0
      },
      "text/plain": [
       "Predicting: |          | 0/? [00:00<?, ?it/s]"
      ]
     },
     "metadata": {},
     "output_type": "display_data"
    },
    {
     "name": "stdout",
     "output_type": "stream",
     "text": [
      "metrics: {'MAE': 41.52, 'RMSE': 52.67, 'MAPE': 15.53, 'MSE': 2774.17}\n"
     ]
    },
    {
     "data": {
      "text/plain": [
       "427"
      ]
     },
     "execution_count": 16,
     "metadata": {},
     "output_type": "execute_result"
    }
   ],
   "source": [
    "print('[INFO] Evaluation of RNN-LSTM Model')\n",
    "# Example usage\n",
    "model_name = 'RNNLSTMForecasting'\n",
    "transformer_ob = transformer_object  # Assuming this is defined elsewhere\n",
    "evaluation_rnn_lstm_df = evaluation_of_model_RnnLstm_Model(model_name,\n",
    "                                                transformer_ob=transformer_ob,\n",
    "                                                ts_test=ts_test,\n",
    "                                                ts_train=ts_train)\n",
    "gc.collect()\n"
   ]
  },
  {
   "cell_type": "markdown",
   "id": "5a53a1af-073f-4f17-a29e-b0d5e5b59b5b",
   "metadata": {},
   "source": [
    "## **Step 9 : Saving the Statistical Results**"
   ]
  },
  {
   "cell_type": "code",
   "execution_count": 17,
   "id": "fbeed244-c072-48f5-bb23-a5e9ea20354f",
   "metadata": {},
   "outputs": [
    {
     "name": "stdout",
     "output_type": "stream",
     "text": [
      "[INFO] Generating Statistical Results of RNN-LSTM Model\n"
     ]
    }
   ],
   "source": [
    "print('[INFO] Generating Statistical Results of RNN-LSTM Model')\n",
    "statistical_result_save_path = os.path.join(\"../StatisticalResults\")\n",
    "os.makedirs(statistical_result_save_path,exist_ok=True)\n",
    "\n",
    "evaluation_rnn_lstm_df.to_csv(\n",
    "f\"{statistical_result_save_path}/rnn_lstm_evaluation_results.csv\", index=False\n",
    ")"
   ]
  },
  {
   "cell_type": "code",
   "execution_count": null,
   "id": "6f829a70-b892-41e0-b93a-465208b3e22b",
   "metadata": {},
   "outputs": [],
   "source": []
  }
 ],
 "metadata": {
  "kernelspec": {
   "display_name": "Python 3",
   "language": "python",
   "name": "python3"
  },
  "language_info": {
   "codemirror_mode": {
    "name": "ipython",
    "version": 3
   },
   "file_extension": ".py",
   "mimetype": "text/x-python",
   "name": "python",
   "nbconvert_exporter": "python",
   "pygments_lexer": "ipython3",
   "version": "3.10.12"
  }
 },
 "nbformat": 4,
 "nbformat_minor": 5
}
