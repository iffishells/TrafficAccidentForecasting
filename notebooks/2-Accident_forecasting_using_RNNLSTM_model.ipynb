{
 "cells": [
  {
   "cell_type": "code",
   "execution_count": 9,
   "id": "95c79cc2-5301-4faf-b106-49a9c3e70d8e",
   "metadata": {},
   "outputs": [],
   "source": [
    "# !pip install darts\n",
    "# !pip install -U kaleido"
   ]
  },
  {
   "cell_type": "markdown",
   "id": "68226190-12c3-4607-a3df-c7e3b5b9a515",
   "metadata": {},
   "source": [
    "## **Step 1: Import all the libraries and modules**"
   ]
  },
  {
   "cell_type": "code",
   "execution_count": 56,
   "id": "557a6936-65e6-4612-8b93-ee0b487bd5ec",
   "metadata": {},
   "outputs": [
    {
     "name": "stdout",
     "output_type": "stream",
     "text": [
      "The autoreload extension is already loaded. To reload it, use:\n",
      "  %reload_ext autoreload\n"
     ]
    }
   ],
   "source": [
    "import pandas as pd\n",
    "import numpy as np\n",
    "import os\n",
    "import sys\n",
    "\n",
    "%load_ext autoreload\n",
    "%autoreload 2\n",
    "\n",
    "target_dir = os.path.abspath(os.path.join(os.getcwd(), '..' ))\n",
    "sys.path.append(target_dir)\n",
    "          \n",
    "from Models.RNNLSTMModel.preprocessing import split_train_valid_test\n",
    "from Models.RNNLSTMModel.preprocessing import transformed_ts\n",
    "from Models.RNNLSTMModel.RNNLSTMMODEL import RNNLSTMModel\n",
    "from Models.RNNLSTMModel.evaluation import evaluation_of_model_RnnLstm_Model    \n",
    "\n",
    "\n",
    "from sklearn.model_selection import  train_test_split\n",
    "import logging\n",
    "import gc\n",
    "\n",
    "import sys\n",
    "import warnings\n",
    "warnings.filterwarnings(\"ignore\")\n",
    "logging.disable(logging.CRITICAL)"
   ]
  },
  {
   "cell_type": "markdown",
   "id": "5aaeeff9-1367-4f08-a8b2-982a4379f9c6",
   "metadata": {},
   "source": [
    "## **Step 2 : Reading Data Daily Traffic Accident Forecasting**"
   ]
  },
  {
   "cell_type": "code",
   "execution_count": 40,
   "id": "02e93a00-f4c6-45ad-a1fd-31ff63f3bb60",
   "metadata": {},
   "outputs": [
    {
     "data": {
      "text/html": [
       "<div>\n",
       "<style scoped>\n",
       "    .dataframe tbody tr th:only-of-type {\n",
       "        vertical-align: middle;\n",
       "    }\n",
       "\n",
       "    .dataframe tbody tr th {\n",
       "        vertical-align: top;\n",
       "    }\n",
       "\n",
       "    .dataframe thead th {\n",
       "        text-align: right;\n",
       "    }\n",
       "</style>\n",
       "<table border=\"1\" class=\"dataframe\">\n",
       "  <thead>\n",
       "    <tr style=\"text-align: right;\">\n",
       "      <th></th>\n",
       "      <th>daily</th>\n",
       "      <th>daily_accident</th>\n",
       "    </tr>\n",
       "  </thead>\n",
       "  <tbody>\n",
       "    <tr>\n",
       "      <th>0</th>\n",
       "      <td>2018-01-01</td>\n",
       "      <td>234</td>\n",
       "    </tr>\n",
       "    <tr>\n",
       "      <th>1</th>\n",
       "      <td>2018-01-02</td>\n",
       "      <td>408</td>\n",
       "    </tr>\n",
       "    <tr>\n",
       "      <th>2</th>\n",
       "      <td>2018-01-03</td>\n",
       "      <td>231</td>\n",
       "    </tr>\n",
       "    <tr>\n",
       "      <th>3</th>\n",
       "      <td>2018-01-04</td>\n",
       "      <td>225</td>\n",
       "    </tr>\n",
       "    <tr>\n",
       "      <th>4</th>\n",
       "      <td>2018-01-05</td>\n",
       "      <td>342</td>\n",
       "    </tr>\n",
       "    <tr>\n",
       "      <th>...</th>\n",
       "      <td>...</td>\n",
       "      <td>...</td>\n",
       "    </tr>\n",
       "    <tr>\n",
       "      <th>1821</th>\n",
       "      <td>2022-12-27</td>\n",
       "      <td>183</td>\n",
       "    </tr>\n",
       "    <tr>\n",
       "      <th>1822</th>\n",
       "      <td>2022-12-28</td>\n",
       "      <td>177</td>\n",
       "    </tr>\n",
       "    <tr>\n",
       "      <th>1823</th>\n",
       "      <td>2022-12-29</td>\n",
       "      <td>191</td>\n",
       "    </tr>\n",
       "    <tr>\n",
       "      <th>1824</th>\n",
       "      <td>2022-12-30</td>\n",
       "      <td>193</td>\n",
       "    </tr>\n",
       "    <tr>\n",
       "      <th>1825</th>\n",
       "      <td>2022-12-31</td>\n",
       "      <td>179</td>\n",
       "    </tr>\n",
       "  </tbody>\n",
       "</table>\n",
       "<p>1826 rows × 2 columns</p>\n",
       "</div>"
      ],
      "text/plain": [
       "           daily  daily_accident\n",
       "0     2018-01-01             234\n",
       "1     2018-01-02             408\n",
       "2     2018-01-03             231\n",
       "3     2018-01-04             225\n",
       "4     2018-01-05             342\n",
       "...          ...             ...\n",
       "1821  2022-12-27             183\n",
       "1822  2022-12-28             177\n",
       "1823  2022-12-29             191\n",
       "1824  2022-12-30             193\n",
       "1825  2022-12-31             179\n",
       "\n",
       "[1826 rows x 2 columns]"
      ]
     },
     "execution_count": 40,
     "metadata": {},
     "output_type": "execute_result"
    }
   ],
   "source": [
    "daily_traffic_accident_data_path = '../data/processed/daily_data.csv'\n",
    "daily_accident_df = pd.read_csv(daily_traffic_accident_data_path)\n",
    "daily_accident_df"
   ]
  },
  {
   "cell_type": "markdown",
   "id": "d5c7b71b-babb-499e-aa13-386135bee482",
   "metadata": {},
   "source": [
    "## **Step 3 : Split the Data into train and test data**"
   ]
  },
  {
   "cell_type": "code",
   "execution_count": 41,
   "id": "f1788240-d977-4f0a-9435-3a2c839cdb57",
   "metadata": {},
   "outputs": [],
   "source": [
    "processed_train_df, processed_test_df = train_test_split(\n",
    "        daily_accident_df, test_size=0.245, random_state=42, shuffle=False)"
   ]
  },
  {
   "cell_type": "markdown",
   "id": "8a7f37c1-d9c5-416e-b3d7-c9e2ba8dea97",
   "metadata": {},
   "source": [
    "## **Step 4 : Preprocess the data into Time series object**"
   ]
  },
  {
   "cell_type": "code",
   "execution_count": 42,
   "id": "c00dc1cf-0a6f-4681-8896-8a54c5d9307c",
   "metadata": {},
   "outputs": [
    {
     "name": "stdout",
     "output_type": "stream",
     "text": [
      "[INFO] Converting data into times series types\n"
     ]
    }
   ],
   "source": [
    "print('[INFO] Converting data into times series types')\n",
    "ts_train = preprocess_df_to_ts(processed_train_df,'daily','daily_accident','1D')\n",
    "ts_test = preprocess_df_to_ts(processed_test_df,'daily','daily_accident','1D')"
   ]
  },
  {
   "cell_type": "markdown",
   "id": "c2cea921-bc5d-4b09-bb2f-d8add8ecc17d",
   "metadata": {},
   "source": [
    "## **Step 5 : Split the data into train and validation**"
   ]
  },
  {
   "cell_type": "code",
   "execution_count": 61,
   "id": "8eb36a10-d4a4-4f84-824d-60507cb8e651",
   "metadata": {},
   "outputs": [],
   "source": [
    "train_subset, val_subset = split_train_valid_test(ts_train, split_point=0.9)"
   ]
  },
  {
   "cell_type": "markdown",
   "id": "8c98473b-c1e2-4c38-aa76-a186e8def25c",
   "metadata": {},
   "source": [
    "## **Step 6 : Scale & Normalize the data before fitting the RNN_LSTM Model**"
   ]
  },
  {
   "cell_type": "code",
   "execution_count": 46,
   "id": "a4faf661-58a9-49d9-8d59-4d77453d429e",
   "metadata": {},
   "outputs": [
    {
     "name": "stdout",
     "output_type": "stream",
     "text": [
      "[INFO] Preprocessing Data for RNN-LSTM Model\n"
     ]
    }
   ],
   "source": [
    "print('[INFO] Preprocessing Data for RNN-LSTM Model')\n",
    "(\n",
    "transformer_object,\n",
    "train_ts_transformed,\n",
    "val_ts_transformed,\n",
    "series_ts_transformed,  \n",
    ") = transformed_ts(ts_train, \n",
    "                val_subset, \n",
    "                train_subset, \n",
    "            train_data_status=True)"
   ]
  },
  {
   "cell_type": "markdown",
   "id": "1808411c-8010-4cba-8281-2b4b61ee87f1",
   "metadata": {},
   "source": [
    "## **Step 7 : Training RNNLSTM Model**"
   ]
  },
  {
   "cell_type": "code",
   "execution_count": 47,
   "id": "4a9bfaae-6b14-4be7-acae-7418193c0818",
   "metadata": {},
   "outputs": [
    {
     "data": {
      "application/vnd.jupyter.widget-view+json": {
       "model_id": "faad250cc7664b16af62ad41f678fe09",
       "version_major": 2,
       "version_minor": 0
      },
      "text/plain": [
       "Sanity Checking: |          | 0/? [00:00<?, ?it/s]"
      ]
     },
     "metadata": {},
     "output_type": "display_data"
    },
    {
     "data": {
      "application/vnd.jupyter.widget-view+json": {
       "model_id": "26ead411e7084e1bba0b70e365f9d26b",
       "version_major": 2,
       "version_minor": 0
      },
      "text/plain": [
       "Training: |          | 0/? [00:00<?, ?it/s]"
      ]
     },
     "metadata": {},
     "output_type": "display_data"
    },
    {
     "data": {
      "application/vnd.jupyter.widget-view+json": {
       "model_id": "10a09114a7b141cd858a3d8f50be2bfd",
       "version_major": 2,
       "version_minor": 0
      },
      "text/plain": [
       "Validation: |          | 0/? [00:00<?, ?it/s]"
      ]
     },
     "metadata": {},
     "output_type": "display_data"
    },
    {
     "data": {
      "application/vnd.jupyter.widget-view+json": {
       "model_id": "aa2bb46dbfa242b19e90ba396b321167",
       "version_major": 2,
       "version_minor": 0
      },
      "text/plain": [
       "Validation: |          | 0/? [00:00<?, ?it/s]"
      ]
     },
     "metadata": {},
     "output_type": "display_data"
    }
   ],
   "source": [
    "rnn_lstm_model = RNNLSTMModel(train_ts_transformed, val_ts_transformed)\n"
   ]
  },
  {
   "cell_type": "markdown",
   "id": "86635106-f138-4dcf-a26d-0d910a80a99b",
   "metadata": {},
   "source": [
    "## **Step 8 : Evaluation of the RNNLSTM Model**"
   ]
  },
  {
   "cell_type": "code",
   "execution_count": 52,
   "id": "e3022f8b-b3e8-4885-ae1c-b66f2c7d8348",
   "metadata": {},
   "outputs": [
    {
     "name": "stdout",
     "output_type": "stream",
     "text": [
      "[INFO] Evaluation of RNN-LSTM Model\n",
      "window_size :30\n",
      "Evaluation of input window : 30 & Horizon : 418\n"
     ]
    },
    {
     "data": {
      "application/vnd.jupyter.widget-view+json": {
       "model_id": "daa1e1d6d28a47b58a940e12d552081f",
       "version_major": 2,
       "version_minor": 0
      },
      "text/plain": [
       "Predicting: |          | 0/? [00:00<?, ?it/s]"
      ]
     },
     "metadata": {},
     "output_type": "display_data"
    },
    {
     "name": "stdout",
     "output_type": "stream",
     "text": [
      "metrics: {'MAE': 43.25, 'RMSE': 55.41, 'MAPE': 16.79, 'MSE': 3070.7}\n",
      "Error  'date'\n",
      "window_size :60\n",
      "Evaluation of input window : 60 & Horizon : 388\n"
     ]
    },
    {
     "data": {
      "application/vnd.jupyter.widget-view+json": {
       "model_id": "8323bdeefad442cdbd9a6daed6c3efc2",
       "version_major": 2,
       "version_minor": 0
      },
      "text/plain": [
       "Predicting: |          | 0/? [00:00<?, ?it/s]"
      ]
     },
     "metadata": {},
     "output_type": "display_data"
    },
    {
     "name": "stdout",
     "output_type": "stream",
     "text": [
      "metrics: {'MAE': 43.65, 'RMSE': 55.77, 'MAPE': 17.07, 'MSE': 3110.02}\n",
      "Error  'date'\n",
      "window_size :90\n",
      "Evaluation of input window : 90 & Horizon : 358\n"
     ]
    },
    {
     "data": {
      "application/vnd.jupyter.widget-view+json": {
       "model_id": "6fc7470316ea49179bc5d36aac07533b",
       "version_major": 2,
       "version_minor": 0
      },
      "text/plain": [
       "Predicting: |          | 0/? [00:00<?, ?it/s]"
      ]
     },
     "metadata": {},
     "output_type": "display_data"
    },
    {
     "name": "stdout",
     "output_type": "stream",
     "text": [
      "metrics: {'MAE': 42.32, 'RMSE': 53.77, 'MAPE': 16.0, 'MSE': 2890.73}\n",
      "Error  'date'\n",
      "window_size :120\n",
      "Evaluation of input window : 120 & Horizon : 328\n"
     ]
    },
    {
     "data": {
      "application/vnd.jupyter.widget-view+json": {
       "model_id": "5ea6ff74067b4813896ac595caab0b90",
       "version_major": 2,
       "version_minor": 0
      },
      "text/plain": [
       "Predicting: |          | 0/? [00:00<?, ?it/s]"
      ]
     },
     "metadata": {},
     "output_type": "display_data"
    },
    {
     "name": "stdout",
     "output_type": "stream",
     "text": [
      "metrics: {'MAE': 41.65, 'RMSE': 52.75, 'MAPE': 15.83, 'MSE': 2782.79}\n",
      "Error  'date'\n",
      "window_size :150\n",
      "Evaluation of input window : 150 & Horizon : 298\n"
     ]
    },
    {
     "data": {
      "application/vnd.jupyter.widget-view+json": {
       "model_id": "a732b6788fdd494d871964de9ec94099",
       "version_major": 2,
       "version_minor": 0
      },
      "text/plain": [
       "Predicting: |          | 0/? [00:00<?, ?it/s]"
      ]
     },
     "metadata": {},
     "output_type": "display_data"
    },
    {
     "name": "stdout",
     "output_type": "stream",
     "text": [
      "metrics: {'MAE': 41.52, 'RMSE': 52.67, 'MAPE': 15.53, 'MSE': 2774.17}\n",
      "Error  'date'\n"
     ]
    },
    {
     "data": {
      "text/plain": [
       "427"
      ]
     },
     "execution_count": 52,
     "metadata": {},
     "output_type": "execute_result"
    }
   ],
   "source": [
    "print('[INFO] Evaluation of RNN-LSTM Model')\n",
    "# Example usage\n",
    "model_name = 'RNNLSTMForecasting'\n",
    "transformer_ob = transformer_object  # Assuming this is defined elsewhere\n",
    "evaluation_rnn_lstm_df = evaluation_of_model_RnnLstm_Model(model_name,\n",
    "                                                transformer_ob=transformer_ob,\n",
    "                                                ts_test=ts_test,\n",
    "                                                ts_train=ts_train)\n",
    "gc.collect()\n"
   ]
  },
  {
   "cell_type": "code",
   "execution_count": 55,
   "id": "fbeed244-c072-48f5-bb23-a5e9ea20354f",
   "metadata": {},
   "outputs": [
    {
     "name": "stdout",
     "output_type": "stream",
     "text": [
      "[INFO] Generating Statistical Results of RNN-LSTM Model\n"
     ]
    }
   ],
   "source": [
    "print('[INFO] Generating Statistical Results of RNN-LSTM Model')\n",
    "statistical_result_save_path = os.path.join(\"../StatisticalResults\")\n",
    "os.makedirs(statistical_result_save_path,exist_ok=True)\n",
    "\n",
    "evaluation_rnn_lstm_df.to_csv(\n",
    "f\"{statistical_result_save_path}/rnn_lstm_evaluation_results.csv\", index=False\n",
    ")"
   ]
  },
  {
   "cell_type": "markdown",
   "id": "3a3d1afd-28b8-45b1-ba9d-019317b1c914",
   "metadata": {},
   "source": [
    "## **Step 9 : Training SARIMA Model**"
   ]
  },
  {
   "cell_type": "code",
   "execution_count": null,
   "id": "ab232e53-798b-41c2-9d25-8d940b4c4125",
   "metadata": {},
   "outputs": [],
   "source": []
  },
  {
   "cell_type": "code",
   "execution_count": 24,
   "id": "02b5ebc7-39ec-42b1-8908-4eb96b7ed5b9",
   "metadata": {},
   "outputs": [],
   "source": [
    "os.makedirs('../pkl',exist_ok=True)\n",
    "trained_model_file_name = f'../pkl/SARIMAModel_param_p_{p}_d_{d}_q_{q}_P_{P}_D_{D}_Q_{Q}_S_{S}.pkl'\n",
    "p, d, q, P, D, Q, S = 1,1,1,1,1,1,1\n",
    "arima_model = train_arima_model(ts_train, p, d, q, P, D, Q, 2)\n",
    "arima_model.save(trained_model_file_name)"
   ]
  },
  {
   "cell_type": "markdown",
   "id": "eab9ece8-3b3a-4c1c-9436-01e03abdc8f2",
   "metadata": {},
   "source": [
    "## **Step 10 : Loading the Trainined Model**"
   ]
  },
  {
   "cell_type": "code",
   "execution_count": 26,
   "id": "2bf765c7-000c-40c0-ae38-4be9d0b42463",
   "metadata": {},
   "outputs": [],
   "source": [
    "sarima_model = load_model_sarima_model(model_name=trained_model_file_name)\n"
   ]
  },
  {
   "cell_type": "markdown",
   "id": "447b274a-927e-4235-a0ae-aca352b6783d",
   "metadata": {},
   "source": [
    "## **Step 11 : Evaluation of the SARIMA Model**"
   ]
  },
  {
   "cell_type": "code",
   "execution_count": 30,
   "id": "bc6f43d1-f952-4c4e-8a6c-3228faf404bd",
   "metadata": {},
   "outputs": [
    {
     "name": "stdout",
     "output_type": "stream",
     "text": [
      "Evaluation of input window : 30 & Horizon : 418\n",
      "metrics: {'MAE': 533.17, 'RMSE': 609.77, 'MAPE': 187.3, 'MSE': 371816.02}\n",
      "Evaluation of input window : 60 & Horizon : 388\n",
      "metrics: {'MAE': 45.35, 'RMSE': 57.79, 'MAPE': 16.66, 'MSE': 3339.45}\n",
      "Evaluation of input window : 90 & Horizon : 358\n",
      "metrics: {'MAE': 152.73, 'RMSE': 173.4, 'MAPE': 51.33, 'MSE': 30067.37}\n",
      "Evaluation of input window : 120 & Horizon : 328\n",
      "metrics: {'MAE': 60.68, 'RMSE': 74.87, 'MAPE': 19.85, 'MSE': 5605.57}\n",
      "Evaluation of input window : 150 & Horizon : 298\n",
      "metrics: {'MAE': 73.29, 'RMSE': 87.85, 'MAPE': 23.51, 'MSE': 7718.02}\n"
     ]
    }
   ],
   "source": [
    "evaluation_sarima_df = evaluation_of_model_sarima_Model(trained_model_file_name,\n",
    "                                                    ts_test=ts_test,\n",
    "                                                    ts_train=ts_train)"
   ]
  },
  {
   "cell_type": "markdown",
   "id": "f2d1aeea-0902-4618-98b3-9ec78a40c2f0",
   "metadata": {},
   "source": [
    "## **Step 12 : Saving the Statistical Results**"
   ]
  },
  {
   "cell_type": "code",
   "execution_count": 31,
   "id": "49426970-10db-454a-b3ac-f8cd6b54eed2",
   "metadata": {},
   "outputs": [],
   "source": [
    "statistical_result_save_path = os.path.join(\"../StatisticalResults\")\n",
    "os.makedirs(statistical_result_save_path,exist_ok=True)\n",
    "evaluation_sarima_df.to_csv(\n",
    "    f\"{statistical_result_save_path}/sarima_evaluation_results.csv\", index=False\n",
    ")\n"
   ]
  },
  {
   "cell_type": "code",
   "execution_count": null,
   "id": "6f829a70-b892-41e0-b93a-465208b3e22b",
   "metadata": {},
   "outputs": [],
   "source": []
  }
 ],
 "metadata": {
  "kernelspec": {
   "display_name": "Python 3",
   "language": "python",
   "name": "python3"
  },
  "language_info": {
   "codemirror_mode": {
    "name": "ipython",
    "version": 3
   },
   "file_extension": ".py",
   "mimetype": "text/x-python",
   "name": "python",
   "nbconvert_exporter": "python",
   "pygments_lexer": "ipython3",
   "version": "3.10.12"
  }
 },
 "nbformat": 4,
 "nbformat_minor": 5
}
